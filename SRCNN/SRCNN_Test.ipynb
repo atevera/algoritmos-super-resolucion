{
 "cells": [
  {
   "cell_type": "markdown",
   "id": "cd4a8a14-3906-4807-832c-e8f3e5512a09",
   "metadata": {},
   "source": [
    "# Importat librerias"
   ]
  },
  {
   "cell_type": "code",
   "execution_count": null,
   "id": "85001e06-c2fc-4a0e-b488-85bd39bd8f44",
   "metadata": {},
   "outputs": [],
   "source": [
    "import cv2\n",
    "import matplotlib\n",
    "import os\n",
    "import SRCNN\n",
    "import numpy as np\n",
    "from matplotlib import pyplot as plt\n",
    "from matplotlib.gridspec import GridSpec\n",
    "\n",
    "# python magic function, displays pyplot figures in the notebook\n",
    "%matplotlib inline\n",
    "\n",
    "# Indicate the text size of the matplotlib to plot the history results of the model train\n",
    "fontText = {'family' : 'Times New Roman',\n",
    "        'weight' : 'normal',\n",
    "        'size'   : 20}\n",
    "fontTitle = {'family' : 'Arial',\n",
    "        'weight' : 'bold',\n",
    "        'size'   : 36}\n",
    "matplotlib.rc('font', **fontText)"
   ]
  },
  {
   "cell_type": "markdown",
   "id": "13e5b5d0-7d32-4c0d-81ea-c2da9077aa55",
   "metadata": {},
   "source": [
    "## Leer Imagen de entrada para realizar el \"zoom\" a una parte seleccionada\n",
    "Se seleccionará a partir de una imagen inicial una parte de esta, a la cual se le hara \"zoom\" y mediante la aplicación de super resolución se mejorará el zoom realizado"
   ]
  },
  {
   "cell_type": "code",
   "execution_count": null,
   "id": "8cb3aa07-f989-4f9a-9c49-6107b5b12e22",
   "metadata": {},
   "outputs": [],
   "source": [
    "x = 466                                          # Posicion en x del área que será seleccionada para zoom\n",
    "y = 343                                          # Posicion en y del área que será seleccionada para zoom\n",
    "w = 32                                           # Ancho del área de zoom\n",
    "h = 32                                           # Alto del área de zoom\n",
    "\n",
    "imgPath = 'AppTest/Saltillo.png'\n",
    "imgOrig = cv2.imread(imgPath)            # Imagen original a la cual realizaremos zoom\n",
    "imgLR = np.copy(imgOrig[y:y+h, x:x+w, :])            # Imagen en baja resolución (Área de zoom)\n",
    "\n",
    "# Creamos el módelo SRCNN\n",
    "srcnn = SRCNN.SR()\n",
    "\n",
    "# Factor de escalamiento de la imagen\n",
    "factor = 4\n",
    "\n",
    "# Dimensiones de reescalamiento de imagen\n",
    "dim = (factor*imgLR.shape[0],factor*imgLR.shape[1])\n",
    "\n",
    "# Predicción de la imagen en alta resolución, la estructura de llamada del método \"getImage\" es:\n",
    "# getImage(Imagen, Espacio de color 0=RGB 1=YCrCb, Archivo .h5 de modelo de red entrenado) la imagen debe ser BGR\n",
    "imgSRCNN = srcnn.getImage(cv2.resize(imgLR,dim,cv2.INTER_CUBIC),SRCNN.SR.ColorSpace.YCrCb,'models/model_YCrCbFactor4.h5')\n",
    "imgOrig = cv2.cvtColor(imgOrig, cv2.COLOR_BGR2RGB)\n",
    "imgLR = cv2.cvtColor(imgLR, cv2.COLOR_BGR2RGB)\n",
    "imgSRCNN = cv2.cvtColor(imgSRCNN, cv2.COLOR_BGR2RGB)\n",
    "\n",
    "# Definición de estructura de la figura de imagenes de resultado\n",
    "fig = plt.figure(figsize=(15,15),dpi=200.0, constrained_layout=True)\n",
    "gs = GridSpec(3, 3, figure=fig)\n",
    "ax1 = fig.add_subplot(gs[0:2, :])\n",
    "ax2 = fig.add_subplot(gs[2, 0])\n",
    "ax3 = fig.add_subplot(gs[2, 1])\n",
    "ax4 = fig.add_subplot(gs[2, 2])\n",
    "\n",
    "ax1.imshow(imgOrig)\n",
    "ax1.imshow(cv2.rectangle(imgOrig, (x,y), (x+w,y+h), [0,255,0], 5))\n",
    "ax1.axis('off')\n",
    "ax1.autoscale('on')\n",
    "\n",
    "ax2.set_title('Area de zoom')\n",
    "ax2.imshow(imgLR)\n",
    "ax2.axis('off')\n",
    "ax2.autoscale('on')\n",
    "\n",
    "ax3.set_title('Zoom con Int. Bicubica')\n",
    "ax3.imshow(cv2.resize(imgLR,(4*imgLR.shape[0],4*imgLR.shape[1]),cv2.INTER_CUBIC))\n",
    "ax3.axis('off')\n",
    "ax3.autoscale('on')\n",
    "\n",
    "ax4.set_title('Zoom con SRCNN')\n",
    "ax4.imshow(imgSRCNN)\n",
    "ax4.axis('off')\n",
    "ax4.autoscale('on')\n",
    "\n",
    "plt.savefig('Resultado.png')\n",
    "\n",
    "plt.show()"
   ]
  }
 ],
 "metadata": {
  "kernelspec": {
   "display_name": "Python 3 (ipykernel)",
   "language": "python",
   "name": "python3"
  },
  "language_info": {
   "codemirror_mode": {
    "name": "ipython",
    "version": 3
   },
   "file_extension": ".py",
   "mimetype": "text/x-python",
   "name": "python",
   "nbconvert_exporter": "python",
   "pygments_lexer": "ipython3",
   "version": "3.9.5"
  }
 },
 "nbformat": 4,
 "nbformat_minor": 5
}
